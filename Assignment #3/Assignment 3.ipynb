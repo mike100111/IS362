{
 "cells": [
  {
   "cell_type": "markdown",
   "metadata": {},
   "source": [
    "# Intro to Pandas"
   ]
  },
  {
   "cell_type": "markdown",
   "metadata": {},
   "source": [
    "## Step 1\n",
    "### Import required packages"
   ]
  },
  {
   "cell_type": "code",
   "execution_count": 37,
   "metadata": {},
   "outputs": [],
   "source": [
    "# import pandas as pd\n",
    "import pandas as pd\n",
    " \n",
    "# import numpy as np\n",
    "import numpy as np   \n"
   ]
  },
  {
   "cell_type": "markdown",
   "metadata": {},
   "source": [
    "## Step 2\n",
    "### Create an array and generate panda series from it"
   ]
  },
  {
   "cell_type": "code",
   "execution_count": 38,
   "metadata": {},
   "outputs": [],
   "source": [
    "\n",
    "# simple array\n",
    "data = np.array([55,101,167,191,234,300,368,425,502,560,625,666,723,801,842,865,905,976,1023,1111,1203,1269])\n",
    "\n",
    "ser = pd.Series(data)\n"
   ]
  },
  {
   "cell_type": "markdown",
   "metadata": {},
   "source": [
    "## Step 3\n",
    "### Create variable to store latst value"
   ]
  },
  {
   "cell_type": "code",
   "execution_count": null,
   "metadata": {},
   "outputs": [],
   "source": [
    "last = 0   "
   ]
  },
  {
   "cell_type": "markdown",
   "metadata": {},
   "source": [
    "## Step 4\n",
    "### Calculate daily mileage and print out."
   ]
  },
  {
   "cell_type": "code",
   "execution_count": 39,
   "metadata": {},
   "outputs": [
    {
     "name": "stdout",
     "output_type": "stream",
     "text": [
      "Day : 1, Miles Traveled : -1214, Total Ridden : 55\n",
      "Day : 2, Miles Traveled : 46, Total Ridden : 101\n",
      "Day : 3, Miles Traveled : 66, Total Ridden : 167\n",
      "Day : 4, Miles Traveled : 24, Total Ridden : 191\n",
      "Day : 5, Miles Traveled : 43, Total Ridden : 234\n",
      "Day : 6, Miles Traveled : 66, Total Ridden : 300\n",
      "Day : 7, Miles Traveled : 68, Total Ridden : 368\n",
      "Day : 8, Miles Traveled : 57, Total Ridden : 425\n",
      "Day : 9, Miles Traveled : 77, Total Ridden : 502\n",
      "Day : 10, Miles Traveled : 58, Total Ridden : 560\n",
      "Day : 11, Miles Traveled : 65, Total Ridden : 625\n",
      "Day : 12, Miles Traveled : 41, Total Ridden : 666\n",
      "Day : 13, Miles Traveled : 57, Total Ridden : 723\n",
      "Day : 14, Miles Traveled : 78, Total Ridden : 801\n",
      "Day : 15, Miles Traveled : 41, Total Ridden : 842\n",
      "Day : 16, Miles Traveled : 23, Total Ridden : 865\n",
      "Day : 17, Miles Traveled : 40, Total Ridden : 905\n",
      "Day : 18, Miles Traveled : 71, Total Ridden : 976\n",
      "Day : 19, Miles Traveled : 47, Total Ridden : 1023\n",
      "Day : 20, Miles Traveled : 88, Total Ridden : 1111\n",
      "Day : 21, Miles Traveled : 92, Total Ridden : 1203\n",
      "Day : 22, Miles Traveled : 66, Total Ridden : 1269\n"
     ]
    }
   ],
   "source": [
    "for index, value in ser.items():                    \n",
    "    print(f\"Day : {index + 1}, Miles Traveled : {value - last}, Total Ridden : {value}\"  )        \n",
    "    last = value"
   ]
  },
  {
   "cell_type": "code",
   "execution_count": null,
   "metadata": {},
   "outputs": [],
   "source": []
  }
 ],
 "metadata": {
  "kernelspec": {
   "display_name": "Python 3",
   "language": "python",
   "name": "python3"
  },
  "language_info": {
   "codemirror_mode": {
    "name": "ipython",
    "version": 3
   },
   "file_extension": ".py",
   "mimetype": "text/x-python",
   "name": "python",
   "nbconvert_exporter": "python",
   "pygments_lexer": "ipython3",
   "version": "3.7.6"
  }
 },
 "nbformat": 4,
 "nbformat_minor": 4
}
