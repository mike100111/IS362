{
 "cells": [
  {
   "cell_type": "code",
   "execution_count": 45,
   "metadata": {},
   "outputs": [],
   "source": [
    "import pandas as pd\n",
    "import re\n",
    "import numpy as np\n",
    "import datetime"
   ]
  },
  {
   "cell_type": "markdown",
   "metadata": {},
   "source": [
    "## Step #1\n",
    "### Import data from csv"
   ]
  },
  {
   "cell_type": "code",
   "execution_count": 46,
   "metadata": {},
   "outputs": [],
   "source": [
    "data = pd.read_csv('Billboard Data.csv')"
   ]
  },
  {
   "cell_type": "markdown",
   "metadata": {},
   "source": [
    "## Step #2 Tidy the data\n",
    "\n",
    "### First use the melt function gather data by the week column so each week is a new row instead of a new column."
   ]
  },
  {
   "cell_type": "code",
   "execution_count": 47,
   "metadata": {},
   "outputs": [
    {
     "data": {
      "text/html": [
       "<div>\n",
       "<style scoped>\n",
       "    .dataframe tbody tr th:only-of-type {\n",
       "        vertical-align: middle;\n",
       "    }\n",
       "\n",
       "    .dataframe tbody tr th {\n",
       "        vertical-align: top;\n",
       "    }\n",
       "\n",
       "    .dataframe thead th {\n",
       "        text-align: right;\n",
       "    }\n",
       "</style>\n",
       "<table border=\"1\" class=\"dataframe\">\n",
       "  <thead>\n",
       "    <tr style=\"text-align: right;\">\n",
       "      <th></th>\n",
       "      <th>year</th>\n",
       "      <th>artist.inverted</th>\n",
       "      <th>track</th>\n",
       "      <th>genre</th>\n",
       "      <th>date.entered</th>\n",
       "      <th>date.peaked</th>\n",
       "      <th>time</th>\n",
       "      <th>week</th>\n",
       "      <th>rank</th>\n",
       "    </tr>\n",
       "  </thead>\n",
       "  <tbody>\n",
       "    <tr>\n",
       "      <th>0</th>\n",
       "      <td>2000</td>\n",
       "      <td>Destiny's Child</td>\n",
       "      <td>Independent Women Part I</td>\n",
       "      <td>Rock</td>\n",
       "      <td>9/23/2000</td>\n",
       "      <td>11/18/2000</td>\n",
       "      <td>3:38</td>\n",
       "      <td>x1st.week</td>\n",
       "      <td>78.0</td>\n",
       "    </tr>\n",
       "    <tr>\n",
       "      <th>1</th>\n",
       "      <td>2000</td>\n",
       "      <td>Santana</td>\n",
       "      <td>Maria, Maria</td>\n",
       "      <td>Rock</td>\n",
       "      <td>2/12/2000</td>\n",
       "      <td>4/8/2000</td>\n",
       "      <td>4:18</td>\n",
       "      <td>x1st.week</td>\n",
       "      <td>15.0</td>\n",
       "    </tr>\n",
       "    <tr>\n",
       "      <th>2</th>\n",
       "      <td>2000</td>\n",
       "      <td>Savage Garden</td>\n",
       "      <td>I Knew I Loved You</td>\n",
       "      <td>Rock</td>\n",
       "      <td>10/23/1999</td>\n",
       "      <td>1/29/2000</td>\n",
       "      <td>4:07</td>\n",
       "      <td>x1st.week</td>\n",
       "      <td>71.0</td>\n",
       "    </tr>\n",
       "    <tr>\n",
       "      <th>3</th>\n",
       "      <td>2000</td>\n",
       "      <td>Madonna</td>\n",
       "      <td>Music</td>\n",
       "      <td>Rock</td>\n",
       "      <td>8/12/2000</td>\n",
       "      <td>9/16/2000</td>\n",
       "      <td>3:45</td>\n",
       "      <td>x1st.week</td>\n",
       "      <td>41.0</td>\n",
       "    </tr>\n",
       "    <tr>\n",
       "      <th>4</th>\n",
       "      <td>2000</td>\n",
       "      <td>Aguilera, Christina</td>\n",
       "      <td>Come On Over Baby (All I Want Is You)</td>\n",
       "      <td>Rock</td>\n",
       "      <td>8/5/2000</td>\n",
       "      <td>10/14/2000</td>\n",
       "      <td>3:38</td>\n",
       "      <td>x1st.week</td>\n",
       "      <td>57.0</td>\n",
       "    </tr>\n",
       "  </tbody>\n",
       "</table>\n",
       "</div>"
      ],
      "text/plain": [
       "   year      artist.inverted                                  track genre  \\\n",
       "0  2000      Destiny's Child               Independent Women Part I  Rock   \n",
       "1  2000              Santana                           Maria, Maria  Rock   \n",
       "2  2000        Savage Garden                     I Knew I Loved You  Rock   \n",
       "3  2000              Madonna                                  Music  Rock   \n",
       "4  2000  Aguilera, Christina  Come On Over Baby (All I Want Is You)  Rock   \n",
       "\n",
       "  date.entered date.peaked  time       week  rank  \n",
       "0    9/23/2000  11/18/2000  3:38  x1st.week  78.0  \n",
       "1    2/12/2000    4/8/2000  4:18  x1st.week  15.0  \n",
       "2   10/23/1999   1/29/2000  4:07  x1st.week  71.0  \n",
       "3    8/12/2000   9/16/2000  3:45  x1st.week  41.0  \n",
       "4     8/5/2000  10/14/2000  3:38  x1st.week  57.0  "
      ]
     },
     "execution_count": 47,
     "metadata": {},
     "output_type": "execute_result"
    }
   ],
   "source": [
    "data=(data.melt(id_vars=[\"year\",\"artist.inverted\",\"track\",\"genre\",\"date.entered\",\"date.peaked\",\"time\"],var_name=[\"week\"],value_name=\"rank\"))\n",
    "data.head()"
   ]
  },
  {
   "cell_type": "markdown",
   "metadata": {},
   "source": [
    "### Then we convert the Week column to a number"
   ]
  },
  {
   "cell_type": "code",
   "execution_count": 48,
   "metadata": {},
   "outputs": [],
   "source": [
    "data.update(pd.DataFrame({\"week\": np.ravel([list(map(int, re.findall(r'\\d+', i))) for i in data[\"week\"]])}))"
   ]
  },
  {
   "cell_type": "markdown",
   "metadata": {},
   "source": [
    "### Then we create a new column for the variable week from the date entered and week column"
   ]
  },
  {
   "cell_type": "code",
   "execution_count": null,
   "metadata": {},
   "outputs": [],
   "source": [
    "data['date.entered'] =  pd.to_datetime(data['date.entered'], format='%m/%d/%Y')\n",
    "data=(data.assign(date= [data['date.entered'][i]+datetime.timedelta(weeks = data[\"week\"][i]-1) for i in range(len(data[\"week\"]))])\n",
    "         .drop(['date.entered','date.peaked','week', \"artist.inverted\", \"track\"], axis=1)\n",
    "         .sort_values('artist.inverted', ascending=True)\n",
    "         .reset_index(drop=True))\n",
    "data.head()"
   ]
  },
  {
   "cell_type": "markdown",
   "metadata": {},
   "source": [
    "### Then we enter an ID column"
   ]
  },
  {
   "cell_type": "code",
   "execution_count": null,
   "metadata": {},
   "outputs": [],
   "source": [
    "labels,unique=pd.factorize(list(data[\"track\"]))\n",
    "data[\"id\"]=labels+1\n",
    "data.reset_index(drop=True)\n",
    "data.head()"
   ]
  },
  {
   "cell_type": "markdown",
   "metadata": {},
   "source": [
    "### Then we split the data into two dataframes. One contains a record fo each song with a unique ID and the other contains that songs weekly ranking. "
   ]
  },
  {
   "cell_type": "code",
   "execution_count": null,
   "metadata": {},
   "outputs": [],
   "source": [
    "# creating a new dataframe for rank\n",
    "df_rank=data.filter([\"id\", \"date\", \"rank\"]).dropna()\n",
    "df_rank=data.sort_values(by=['id','date']).reset_index(drop=True)\n",
    "# creating a new dataframe for song\n",
    "df_song=data.filter([\"id\", \"artist.inverted\", \"track\",\"time\"])\n",
    "df_song=df_song.drop_duplicates('id').reset_index(drop=True)\n",
    "df_rank.head(30)\n",
    " "
   ]
  },
  {
   "cell_type": "code",
   "execution_count": null,
   "metadata": {},
   "outputs": [],
   "source": [
    "df_song.head(30)"
   ]
  }
 ],
 "metadata": {
  "kernelspec": {
   "display_name": "Python 3",
   "language": "python",
   "name": "python3"
  },
  "language_info": {
   "codemirror_mode": {
    "name": "ipython",
    "version": 3
   },
   "file_extension": ".py",
   "mimetype": "text/x-python",
   "name": "python",
   "nbconvert_exporter": "python",
   "pygments_lexer": "ipython3",
   "version": "3.7.6"
  }
 },
 "nbformat": 4,
 "nbformat_minor": 4
}
